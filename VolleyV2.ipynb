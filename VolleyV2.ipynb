{
 "cells": [
  {
   "cell_type": "code",
   "execution_count": 54,
   "metadata": {},
   "outputs": [],
   "source": [
    "#LNB Messieurs\n",
    "#LNB Dames\n",
    "#Première ligue messieurs, gr. a\n",
    "#Première ligue dames, gr. a\n",
    "#Groupe b"
   ]
  },
  {
   "cell_type": "code",
   "execution_count": 79,
   "metadata": {},
   "outputs": [],
   "source": [
    "import requests\n",
    "import datetime\n",
    "header= {'User-Agent': 'Mozilla/5.0 (Macintosh; Intel Mac OS X 10_13_6) AppleWebKit/537.36 (KHTML, like Gecko) Chrome/71.0.3578.98 Safari/537.36',\n",
    "         'Host': 'api.volleyball.ch',\n",
    "         'Connection': 'keep-alive',\n",
    "         'Access-Control-Request-Method': 'GET', \n",
    "         'Origin': 'https://www.volleyball.ch',\n",
    "          'Access-Control-Request-Headers': 'authorization',\n",
    "         'Accept': '*/*', \n",
    "         'Referer': 'https://www.volleyball.ch/fr/volleyball/game-center/', \n",
    "          'Accept-Encoding': 'gzip, deflate, br', \n",
    "         'Accept-Language': 'fr-FR,fr;q=0.9,en-US;q=0.8,en;q=0.7,it;q=0.6',\n",
    "        'Authorization': 'clicsoftGmbhMasterApiKey'\n",
    "}\n",
    "def matches(link):\n",
    "    def computeScore(x):\n",
    "        resh, resa = 0, 0\n",
    "        for i in range(1, len(data[x][\"setResults\"]) + 1):\n",
    "            if data[x][\"setResults\"][\"{}\".format(i)][\"home\"] < data[x][\"setResults\"][\"{}\".format(i)][\"away\"]:\n",
    "                resa += 1\n",
    "            else:\n",
    "                resh += 1\n",
    "\n",
    "        return (str(resh) + '-' + str(resa))\n",
    "\n",
    "    response = requests.get(link, headers=header)\n",
    "    data = response.json()\n",
    "    toreturn = ''\n",
    "    for team in range(0, len(data)+1):\n",
    "\n",
    "        try:\n",
    "            if datetime.datetime.strptime(data[team][\"playDate\"],'%Y-%m-%d %H:%M:%S') >= datetime.datetime.now() - datetime.timedelta(days=6, hours=12):\n",
    "                toreturn += (data[team][\"teams\"][\"home\"][\"caption\"].replace('VBC', '').replace('VB', '').replace('Volley', '').strip() + ' - '\n",
    "                      + data[team][\"teams\"][\"away\"][\"caption\"].replace('VBC', '').replace('VB', '').replace('Volley', '').strip()\n",
    "                      +'\\t' + computeScore(team)) + '\\n'\n",
    "        except:\n",
    "            pass\n",
    "    return toreturn\n",
    "\n",
    "def classement(link):\n",
    "    response_ranking = requests.get(link, headers=header)\n",
    "    data_ranking = response_ranking.json()\n",
    "    toreturn = ''\n",
    "    for i in range(len(data_ranking)-1):\n",
    "        toreturn+=(str(i+1) +'.'+ '\\t' + data_ranking[i]['teamCaption'].replace('VBC', '').replace('VB', '').replace('Volley', '').strip()\n",
    "              + '\\t' + str(data_ranking[i]['games'])\n",
    "              + '\\t' + str(data_ranking[i]['winsClear'])\n",
    "              + '\\t' + str(data_ranking[i]['winsNarrow'])\n",
    "              + '\\t' + str(data_ranking[i]['defeatsClear'])\n",
    "              + '\\t' + str(data_ranking[i]['defeatsNarrow'])\n",
    "              + '\\t' + str(data_ranking[i]['setsWon'])\n",
    "              + '-' +  str(data_ranking[i]['setsLost'])\n",
    "              + '\\t' + str(data_ranking[i]['points']) + '\\n'\n",
    "              )\n",
    "    return toreturn\n",
    "    "
   ]
  },
  {
   "cell_type": "code",
   "execution_count": 80,
   "metadata": {},
   "outputs": [
    {
     "name": "stdout",
     "output_type": "stream",
     "text": [
      "LNB Messieurs, tour de relégation (ouest + est)\n",
      "Fully - Pallavolo Kreuzlingen\t0-3\n",
      "Colombier  I - Wetzikon\t2-3\n",
      "Oberdiessbach - Näfels II\t3-2\n",
      "\n",
      "1.\tPallavolo Kreuzlingen\t1\t1\t0\t0\t0\t3-0\t5\n",
      "2.\tNäfels II\t1\t0\t0\t0\t1\t2-3\t4\n",
      "3.\tball Papiermühle\t0\t0\t0\t0\t0\t0-0\t3\n",
      "4.\tWetzikon\t1\t0\t1\t0\t0\t3-2\t3\n",
      "5.\tColombier  I\t1\t0\t0\t0\t1\t2-3\t3\n",
      "6.\tOberdiessbach\t1\t0\t1\t0\t0\t3-2\t2\n",
      "\n"
     ]
    }
   ],
   "source": [
    "print(\"LNB Messieurs, tour de relégation (ouest + est)\")\n",
    "print(matches(\"https://api.volleyball.ch/indoor/games?region=SV&gender=m&leagueId=1974&phaseId=3856&groupId=12602\"))\n",
    "print(classement(\"https://api.volleyball.ch/indoor/ranking/12602\"))"
   ]
  },
  {
   "cell_type": "code",
   "execution_count": 83,
   "metadata": {},
   "outputs": [
    {
     "name": "stdout",
     "output_type": "stream",
     "text": [
      "LNB Dames, \n",
      "\n",
      "1.\tTherwil\t14\t11\t1\t1\t1\t39-14\t36\n",
      "2.\tMünchenbuchsee\t14\t8\t2\t1\t3\t37-18\t31\n",
      "3.\tSchönenwerd\t14\t4\t3\t5\t2\t29-30\t20\n",
      "4.\tGroupe E Val-de-Travers\t14\t5\t1\t5\t3\t25-29\t20\n",
      "5.\tNUC II\t14\t5\t2\t7\t0\t26-26\t19\n",
      "6.\tGerlafingen\t14\t3\t3\t6\t2\t22-33\t17\n",
      "7.\tVisp\t14\t3\t3\t7\t1\t23-31\t16\n",
      "\n"
     ]
    }
   ],
   "source": [
    "print(\"LNB Dames, \")\n",
    "print(matches(\"https://api.volleyball.ch/indoor/games?region=SV&gender=f&leagueId=1973&phaseId=3482&groupId=11778\"))\n",
    "print(classement(\"https://api.volleyball.ch/indoor/ranking/11778\"))"
   ]
  },
  {
   "cell_type": "code",
   "execution_count": 30,
   "metadata": {},
   "outputs": [
    {
     "name": "stdout",
     "output_type": "stream",
     "text": [
      "1ere ligue messieurs, groupe A\n"
     ]
    }
   ],
   "source": [
    "print(\"1ere ligue messieurs, groupe A\")\n",
    "#print(matches(\"...\"))\n",
    "#print(classement(\"...\"))"
   ]
  },
  {
   "cell_type": "code",
   "execution_count": 84,
   "metadata": {},
   "outputs": [
    {
     "name": "stdout",
     "output_type": "stream",
     "text": [
      "1ere ligue dames, groupe A\n",
      "Val-de-Ruz Sport - VC Uettligen\t3-1\n",
      "Servette Star-Onex - Genève  II\t3-0\n",
      "TS  Düdingen II - LE Locle\t3-0\n",
      "TV Murten ball - Cheseaux II\t3-0\n",
      "\n",
      "1.\tVal-de-Ruz Sport\t15\t12\t1\t2\t0\t40-12\t38\n",
      "2.\tEcublens\t14\t12\t0\t2\t0\t37-11\t36\n",
      "3.\tTS  Düdingen II\t14\t8\t2\t1\t3\t36-21\t31\n",
      "4.\tServette Star-Onex\t14\t6\t1\t5\t2\t29-27\t22\n",
      "5.\tTV Murten ball\t14\t5\t1\t6\t2\t25-28\t19\n",
      "6.\tCheseaux II\t14\t5\t1\t7\t1\t24-30\t18\n",
      "7.\tGenève  II\t15\t3\t3\t9\t0\t21-34\t15\n",
      "8.\tVC Uettligen\t14\t3\t1\t9\t1\t20-34\t12\n",
      "\n"
     ]
    }
   ],
   "source": [
    "print(\"1ere ligue dames, groupe A\")\n",
    "print(matches(\"https://api.volleyball.ch/indoor/games?region=SV&gender=f&leagueId=1975&phaseId=3486&groupId=11785\"))\n",
    "print(classement(\"https://api.volleyball.ch/indoor/ranking/11785\"))"
   ]
  },
  {
   "cell_type": "code",
   "execution_count": null,
   "metadata": {},
   "outputs": [],
   "source": [
    "print(\"Groupe B\")\n",
    "#print(matches(\"...\"))\n",
    "#print(classement(\"...\"))"
   ]
  },
  {
   "cell_type": "code",
   "execution_count": null,
   "metadata": {},
   "outputs": [],
   "source": []
  },
  {
   "cell_type": "code",
   "execution_count": null,
   "metadata": {},
   "outputs": [],
   "source": []
  },
  {
   "cell_type": "code",
   "execution_count": null,
   "metadata": {},
   "outputs": [],
   "source": []
  }
 ],
 "metadata": {
  "kernelspec": {
   "display_name": "Python 3",
   "language": "python",
   "name": "python3"
  },
  "language_info": {
   "codemirror_mode": {
    "name": "ipython",
    "version": 3
   },
   "file_extension": ".py",
   "mimetype": "text/x-python",
   "name": "python",
   "nbconvert_exporter": "python",
   "pygments_lexer": "ipython3",
   "version": "3.6.7"
  }
 },
 "nbformat": 4,
 "nbformat_minor": 2
}
