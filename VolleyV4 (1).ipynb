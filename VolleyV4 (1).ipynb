{
 "cells": [
  {
   "cell_type": "code",
   "execution_count": 1,
   "metadata": {},
   "outputs": [],
   "source": [
    "#LNB Messieurs\n",
    "#LNB Dames\n",
    "#Première ligue messieurs, gr. a\n",
    "#Première ligue dames, gr. a\n",
    "#Groupe b"
   ]
  },
  {
   "cell_type": "code",
   "execution_count": 3,
   "metadata": {},
   "outputs": [],
   "source": [
    "import requests\n",
    "import datetime\n",
    "header= {'User-Agent': 'Mozilla/5.0 (Macintosh; Intel Mac OS X 10_13_6) AppleWebKit/537.36 (KHTML, like Gecko) Chrome/71.0.3578.98 Safari/537.36',\n",
    "         'Host': 'api.volleyball.ch',\n",
    "         'Connection': 'keep-alive',\n",
    "         'Access-Control-Request-Method': 'GET', \n",
    "         'Origin': 'https://www.volleyball.ch',\n",
    "          'Access-Control-Request-Headers': 'authorization',\n",
    "         'Accept': '*/*', \n",
    "         'Referer': 'https://www.volleyball.ch/fr/volleyball/game-center/', \n",
    "          'Accept-Encoding': 'gzip, deflate, br', \n",
    "         'Accept-Language': 'fr-FR,fr;q=0.9,en-US;q=0.8,en;q=0.7,it;q=0.6',\n",
    "        'Authorization': 'clicsoftGmbhMasterApiKey'\n",
    "}\n",
    "def nettoie(x):\n",
    "    x = x.replace('VBC', '').replace('VB', '').replace('Volleyball','').replace('Volley', '').strip()\n",
    "    dico = {'TV Grenchen' : 'Granges', 'Solothurn' : 'Soleure'}\n",
    "    if x in dico.keys():\n",
    "        x = dico[x]\n",
    "    return x\n",
    "\n",
    "def matches(link):\n",
    "    def computeScore(x):\n",
    "        resh, resa = 0, 0\n",
    "        try:\n",
    "            for i in range(1, len(data[x][\"setResults\"]) + 1):\n",
    "                if data[x][\"setResults\"][\"{}\".format(i)][\"home\"] < data[x][\"setResults\"][\"{}\".format(i)][\"away\"]:\n",
    "                    resa += 1\n",
    "                else:\n",
    "                    resh += 1\n",
    "        except:\n",
    "            resh,resa = 'x', 'x'\n",
    "        return (str(resh) + '-' + str(resa))\n",
    "    \n",
    "    def cordate(x):\n",
    "        jour = datetime.datetime.strptime(x, '%Y-%m-%d %H:%M:%S').strftime('%A')\n",
    "        mois = datetime.datetime.strptime(x, '%Y-%m-%d %H:%M:%S').strftime('%B')\n",
    "        njour = datetime.datetime.strptime(x, '%Y-%m-%d %H:%M:%S').strftime('%d')\n",
    "        heure = datetime.datetime.strptime(x, '%Y-%m-%d %H:%M:%S').strftime('%H')\n",
    "        minute = datetime.datetime.strptime(x, '%Y-%m-%d %H:%M:%S').strftime('%M')\n",
    "\n",
    "        dictiojour = {'Monday' : 'Lundi',\n",
    "                 'Tuesday':'Mardi',\n",
    "                 'Wednesday':'Mercredi',\n",
    "                 'Thursday':'Jeudi',\n",
    "                 'Friday':'Vendredi',\n",
    "                 'Saturday':'Samedi',\n",
    "                 'Sunday':'Dimanche'}\n",
    "        dictiomois = {'January':'janvier',\n",
    "                     'February':'février',\n",
    "                     'March':'mars',\n",
    "                     'April':'avril',\n",
    "                      'May':'mai',\n",
    "                     'June':'juin',\n",
    "                     'July':'juillet',\n",
    "                     'August':'août',\n",
    "                     'September':'septembre',\n",
    "                     'October':'octobre',\n",
    "                     'November':'novembre',\n",
    "                     'December':'décembre'}\n",
    "        res = dictiojour.get(jour) + ' ' + str(int(njour)) + ' ' + dictiomois.get(mois)+'. '+ heure +'h'+ minute+':'\n",
    "        return res\n",
    "    \n",
    "    response = requests.get(link, headers=header)\n",
    "    data = response.json()\n",
    "    toreturn = ''\n",
    "    avenir = ''\n",
    "    for team in range(0, len(data)+1):\n",
    "\n",
    "        try:\n",
    "            if datetime.datetime.strptime(data[team][\"playDate\"],'%Y-%m-%d %H:%M:%S') >= datetime.datetime.now() - datetime.timedelta(days=6, hours=12) and datetime.datetime.strptime(data[team][\"playDate\"],'%Y-%m-%d %H:%M:%S') <= datetime.datetime.now() + datetime.timedelta(hours=12):\n",
    "                toreturn += (nettoie(data[team][\"teams\"][\"home\"][\"caption\"]) + ' - '\n",
    "                      + nettoie(data[team][\"teams\"][\"away\"][\"caption\"])\n",
    "                      +'\\t' + computeScore(team)) + '\\n'\n",
    "            elif datetime.datetime.strptime(data[team][\"playDate\"],'%Y-%m-%d %H:%M:%S') <= datetime.datetime.now() + datetime.timedelta(days=7, hours=12) and datetime.datetime.strptime(data[team][\"playDate\"],'%Y-%m-%d %H:%M:%S') >= datetime.datetime.now() + datetime.timedelta(hours=12):\n",
    "                avenir += cordate(str(datetime.datetime.strptime(data[team][\"playDate\"],'%Y-%m-%d %H:%M:%S'))) + ' ' + nettoie(data[team][\"teams\"][\"home\"][\"caption\"]) + ' - ' + nettoie(data[team][\"teams\"][\"away\"][\"caption\"]) +'. '\n",
    "\n",
    "        except:\n",
    "            pass\n",
    "\n",
    "    return toreturn, avenir\n",
    "\n",
    "def classement(link):\n",
    "    response_ranking = requests.get(link, headers=header)\n",
    "    data_ranking = response_ranking.json()\n",
    "    toreturn = ''\n",
    "    for i in range(len(data_ranking)):\n",
    "        toreturn+=('\\t' + str(i+1) +'.'+ '\\t' + nettoie(data_ranking[i]['teamCaption'])\n",
    "              + '\\t' + str(data_ranking[i]['games'])\n",
    "              + '\\t' + str(data_ranking[i]['winsClear'])\n",
    "              + '\\t' + str(data_ranking[i]['winsNarrow'])\n",
    "              + '\\t' + str(data_ranking[i]['defeatsClear'])\n",
    "              + '\\t' + str(data_ranking[i]['defeatsNarrow'])\n",
    "              + '\\t' + str(data_ranking[i]['setsWon'])\n",
    "              + '-' +  str(data_ranking[i]['setsLost'])\n",
    "              + '\\t' + str(data_ranking[i]['points']) + '\\n'\n",
    "              )\n",
    "    return toreturn\n",
    "\n",
    "def clacontinu(link):\n",
    "    response_ranking = requests.get(link, headers=header)\n",
    "    data_ranking = response_ranking.json()\n",
    "    \n",
    "    if data_ranking[0]['points'] == data_ranking[1]['points']:\n",
    "        toreturn = 'Classement: ' + str(1) +'.'+ ' ' + nettoie(data_ranking[0]['teamCaption']) + ' ' + str(data_ranking[0]['games']) + '-' + str(data_ranking[0]['points']) + ' ' + '(' + str(data_ranking[0]['setsWon']) + '-' +  str(data_ranking[i]['setsLost']) +'). '\n",
    "    else:\n",
    "        toreturn = 'Classement: ' + str(1) +'.'+ ' ' + nettoie(data_ranking[0]['teamCaption']) + ' ' + str(data_ranking[0]['games']) + '-' + str(data_ranking[0]['points']) + '. '\n",
    "    \n",
    "    for i in range(1, len(data_ranking)-1):\n",
    "        if data_ranking[i]['points'] == data_ranking[i+1]['points'] or data_ranking[i]['points'] == data_ranking[i-1]['points']:\n",
    "            toreturn+= str(i+1) +'.'+ ' ' + nettoie(data_ranking[i]['teamCaption']) + ' ' + str(data_ranking[i]['games']) + '-' + str(data_ranking[i]['points']) + ' ' + '(' + str(data_ranking[i]['setsWon']) + '-' +  str(data_ranking[i]['setsLost']) +'). '\n",
    "        else:\n",
    "            toreturn+= str(i+1) +'.'+ ' ' + nettoie(data_ranking[i]['teamCaption']) + ' ' + str(data_ranking[i]['games']) + '-' + str(data_ranking[i]['points']) + '. '\n",
    "    \n",
    "    if data_ranking[len(data_ranking)-2]['points'] == data_ranking[len(data_ranking)-1]['points']:\n",
    "        toreturn+= str(len(data_ranking)) +'.'+ ' ' + nettoie(data_ranking[len(data_ranking)-1]['teamCaption']) + ' ' + str(data_ranking[len(data_ranking)-1]['games']) + '-' + str(data_ranking[len(data_ranking)-1]['points']) + ' ' + '(' + str(data_ranking[len(data_ranking)-1]['setsWon']) + '-' +  str(data_ranking[len(data_ranking)-1]['setsLost']) +'). '\n",
    "    else:\n",
    "        toreturn+= str(len(data_ranking)) +'.'+ ' ' + nettoie(data_ranking[len(data_ranking)-1]['teamCaption']) + ' ' + str(data_ranking[len(data_ranking)-1]['games']) + '-' + str(data_ranking[len(data_ranking)-1]['points']) + '. '\n",
    "            \n",
    "    return toreturn\n",
    "    \n"
   ]
  },
  {
   "cell_type": "code",
   "execution_count": 2,
   "metadata": {},
   "outputs": [
    {
     "name": "stdout",
     "output_type": "stream",
     "text": [
      "LNB Messieurs, relégation\n",
      "Näfels II - Wetzikon\t2-3\n",
      "Papiermühle - Fully\t3-2\n",
      "Oberdiessbach - Colombier  I\t1-3\n",
      "\n",
      "\t1.\tColombier  I\t2\t1\t0\t0\t1\t5-4\t6\n",
      "\t2.\tPallavolo Kreuzlingen\t1\t1\t0\t0\t0\t3-0\t5\n",
      "\t3.\tPapiermühle\t1\t0\t1\t0\t0\t3-2\t5\n",
      "\t4.\tWetzikon\t2\t0\t2\t0\t0\t6-4\t5\n",
      "\t5.\tNäfels II\t2\t0\t0\t0\t2\t4-6\t5\n",
      "\t6.\tOberdiessbach\t2\t0\t1\t1\t0\t4-5\t2\n",
      "\t7.\tFully\t2\t0\t0\t1\t1\t2-6\t2\n",
      "\n",
      "Samedi 16 février. 14h30: Näfels II - Fully. Samedi 16 février. 16h00: Wetzikon - Papiermühle. Dimanche 17 février. 15h00: Pallavolo Kreuzlingen - Oberdiessbach. \n"
     ]
    }
   ],
   "source": [
    "jouer, a_jouer = matches(\"https://api.volleyball.ch/indoor/games?region=SV&gender=m&leagueId=1974&phaseId=3856&groupId=12602\")\n",
    "print(\"LNB Messieurs, relégation\")\n",
    "print(jouer)\n",
    "print(classement(\"https://api.volleyball.ch/indoor/ranking/12602\"))\n",
    "print(a_jouer)"
   ]
  },
  {
   "cell_type": "code",
   "execution_count": 50,
   "metadata": {},
   "outputs": [
    {
     "name": "stdout",
     "output_type": "stream",
     "text": [
      "LNB Dames, relégation\n",
      "Visp - Raiffeisen a Obwalden\tx-x\n",
      "\n",
      "1.\tRaiffeisen a Obwalden\t1\t1\t0\t0\t0\t3-0\t5\n",
      "2.\tSteinhausen\t1\t0\t1\t0\t0\t3-2\t5\n",
      "3.\tWolf Haus Giubiasco\t1\t1\t0\t0\t0\t3-1\t4\n",
      "4.\tLuzern\t1\t1\t0\t0\t0\t3-0\t3\n",
      "5.\tNUC II\t1\t0\t0\t1\t0\t1-3\t3\n",
      "6.\tVisp\t1\t0\t0\t0\t1\t2-3\t2\n",
      "7.\tGerlafingen\t1\t0\t0\t1\t0\t0-3\t2\n",
      "8.\tEdelline Köniz\t1\t0\t0\t1\t0\t0-3\t0\n",
      "\n",
      "Dimanche 10 février. 14h30: NUC II - Luzern. Dimanche 10 février. 16h00: Gerlafingen - Wolf Haus Giubiasco. Dimanche 10 février. 16h30: Edelline Köniz - Steinhausen. Samedi 16 février. 13h30: Wolf Haus Giubiasco - Visp. Samedi 16 février. 16h00: Luzern - Edelline Köniz. Samedi 16 février. 16h00: Steinhausen - NUC II. Samedi 16 février. 18h00: Raiffeisen a Obwalden - Gerlafingen. \n"
     ]
    }
   ],
   "source": [
    "jouer, a_jouer = matches(\"https://api.volleyball.ch/indoor/games?region=SV&gender=f&leagueId=1973&phaseId=3858&groupId=12598\")\n",
    "print(\"LNB Dames, relégation\")\n",
    "print(jouer)\n",
    "print(classement(\"https://api.volleyball.ch/indoor/ranking/12598\"))\n",
    "print(a_jouer)"
   ]
  },
  {
   "cell_type": "code",
   "execution_count": 53,
   "metadata": {},
   "outputs": [
    {
     "name": "stdout",
     "output_type": "stream",
     "text": [
      "1ere ligue messieurs, groupe A\n",
      "TV Murten - Martigny\t3-1\n",
      "Groupement Sportif du CERN - Colombier  II\t2-3\n",
      "La-Chaux-de-Fonds - Herren Oberwallis\tx-x\n",
      "Martigny - La Côte\tx-x\n",
      "Volero Aarberg - Lausanne\tx-x\n",
      "\n",
      "1. Volero Aarberg 16-42. 2. La Côte 16-34. 3. Herren Oberwallis 15-32 (34-19). 4. Servette Star-Onex 16-32 (39-23). 5. Colombier  II 17-27. 6. Lausanne 16-24. 7. La-Chaux-de-Fonds 16-22. 8. TV Murten 16-18. 10. Groupement Sportif du CERN 16-4. \n",
      "Dimanche 10 février. 14h00: TV Murten - Servette Star-Onex. Dimanche 10 février. 16h00: Herren Oberwallis - Groupement Sportif du CERN. Vendredi 15 février. 20h30: Servette Star-Onex - Groupement Sportif du CERN. Vendredi 15 février. 20h30: Lausanne - TV Murten. Samedi 16 février. 15h30: Colombier  II - Martigny. Samedi 16 février. 17h30: La Côte - La-Chaux-de-Fonds. Samedi 16 février. 18h00: Herren Oberwallis - Volero Aarberg. \n"
     ]
    }
   ],
   "source": [
    "jouer, a_jouer = matches(\"https://api.volleyball.ch/indoor/games?region=SV&gender=m&leagueId=1976&phaseId=3491&groupId=11798\")\n",
    "print(\"1ere ligue messieurs, groupe A\")\n",
    "print(jouer)\n",
    "print(clacontinu(\"https://api.volleyball.ch/indoor/ranking/11798\"))\n",
    "print(a_jouer)"
   ]
  },
  {
   "cell_type": "code",
   "execution_count": 54,
   "metadata": {},
   "outputs": [
    {
     "name": "stdout",
     "output_type": "stream",
     "text": [
      "1ere ligue dames, groupe A\n",
      "TV Murten - Cheseaux II\t3-0\n",
      "LE Locle - VC Uettligen\t0-3\n",
      "Cheseaux II - Ecublens\tx-x\n",
      "TV Murten - Servette Star-Onex\tx-x\n",
      "\n",
      "1. Val-de-Ruz Sport 15-38. 2. Ecublens 14-36. 3. TS  Düdingen II 14-31. 4. Servette Star-Onex 14-22. 5. TV Murten 14-19. 6. Cheseaux II 14-18. 7. Genève  II 15-15 (21-34). 9. LE Locle 15-1. \n",
      "Dimanche 10 février. 13h30: TS  Düdingen II - Val-de-Ruz Sport. Vendredi 15 février. 20h30: Ecublens - TS  Düdingen II. Samedi 16 février. 12h00: Servette Star-Onex - LE Locle. Samedi 16 février. 14h00: Genève  II - TV Murten. Samedi 16 février. 18h30: VC Uettligen - Cheseaux II. \n"
     ]
    }
   ],
   "source": [
    "jouer, a_jouer = matches(\"https://api.volleyball.ch/indoor/games?region=SV&gender=f&leagueId=1975&phaseId=3486&groupId=11785\")\n",
    "print(\"1ere ligue dames, groupe A\")\n",
    "print(jouer)\n",
    "print(clacontinu(\"https://api.volleyball.ch/indoor/ranking/11785\"))\n",
    "print(a_jouer)"
   ]
  },
  {
   "cell_type": "code",
   "execution_count": 4,
   "metadata": {},
   "outputs": [
    {
     "name": "stdout",
     "output_type": "stream",
     "text": [
      "Groupe B\n",
      "Uni Bern - VFM -  Franches-Montagnes II\t2-3\n",
      "Münchenbuchsee - Soleure\t3-0\n",
      "Lalden - Oftringen 1\t3-2\n",
      "Köniz II - Muri Bern\t3-1\n",
      "Münsingen - Granges\t3-2\n",
      "\n",
      "Classement: 1. Münsingen 17-40. 2. Muri Bern 17-39. 3. VFM -  Franches-Montagnes II 17-35. 4. Münchenbuchsee 17-34. 5. Granges 17-32. 6. Köniz II 17-30. 7. Uni Bern 17-25. 8. Lalden 17-10. 9. Oftringen 1 17-7. 10. Soleure 17-3. \n",
      "Samedi 16 février. 13h30: Muri Bern - Münchenbuchsee. Samedi 16 février. 13h45: Granges - Köniz II. Samedi 16 février. 14h30: Soleure - Lalden. Samedi 16 février. 15h00: VFM -  Franches-Montagnes II - Münsingen. Samedi 16 février. 18h00: Oftringen 1 - Uni Bern. \n"
     ]
    }
   ],
   "source": [
    "jouer, a_jouer = matches(\"https://api.volleyball.ch/indoor/games?region=SV&gender=f&leagueId=1975&phaseId=3486&groupId=11786\")\n",
    "print(\"Groupe B\")\n",
    "print(jouer)\n",
    "print(clacontinu(\"https://api.volleyball.ch/indoor/ranking/11786\"))\n",
    "print(a_jouer)"
   ]
  },
  {
   "cell_type": "code",
   "execution_count": null,
   "metadata": {},
   "outputs": [],
   "source": []
  }
 ],
 "metadata": {
  "kernelspec": {
   "display_name": "Python 3",
   "language": "python",
   "name": "python3"
  },
  "language_info": {
   "codemirror_mode": {
    "name": "ipython",
    "version": 3
   },
   "file_extension": ".py",
   "mimetype": "text/x-python",
   "name": "python",
   "nbconvert_exporter": "python",
   "pygments_lexer": "ipython3",
   "version": "3.6.7"
  }
 },
 "nbformat": 4,
 "nbformat_minor": 2
}
