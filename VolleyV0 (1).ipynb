{
 "cells": [
  {
   "cell_type": "code",
   "execution_count": 104,
   "metadata": {},
   "outputs": [],
   "source": [
    "import requests\n",
    "import datetime\n",
    "def matches(link):\n",
    "    def computeScore(x):\n",
    "        resh, resa = 0, 0\n",
    "        for i in range(1, len(data[x][\"setResults\"]) + 1):\n",
    "            if data[x][\"setResults\"][\"{}\".format(i)][\"home\"] < data[x][\"setResults\"][\"{}\".format(i)][\"away\"]:\n",
    "                resa += 1\n",
    "            else:\n",
    "                resh += 1\n",
    "\n",
    "        return (str(resh) + '-' + str(resa))\n",
    "    response = requests.get(link)\n",
    "    data = response.json()\n",
    "    toreturn = ''\n",
    "    for team in range(0, len(data)+1):\n",
    "\n",
    "        try:\n",
    "            if datetime.datetime.strptime(data[team][\"playDate\"],'%Y-%m-%d %H:%M:%S') >=         datetime.datetime.now() - datetime.timedelta(days=6, hours=12):\n",
    "                toreturn += (data[team][\"teams\"][\"home\"][\"caption\"].replace('VBC', '').replace('VB', '').replace('Volley', '').strip() + ' - '\n",
    "                      + data[team][\"teams\"][\"away\"][\"caption\"].replace('VBC', '').replace('VB', '').replace('Volley', '').strip()\n",
    "                      +'\\t' + computeScore(team)) + '\\n'\n",
    "        except:\n",
    "            pass\n",
    "    return toreturn\n",
    "\n",
    "\n",
    "def classement(link):\n",
    "    response_ranking = requests.get(link)\n",
    "    data_ranking = response_ranking.json()\n",
    "    toreturn = ''\n",
    "    for i in range(len(data_ranking)-1):\n",
    "        toreturn+=(str(i+1) +'.'+ '\\t' + data_ranking[i]['teamCaption'].replace('VBC', '').replace('VB', '').replace('Volley', '').strip()\n",
    "              + '\\t' + str(data_ranking[i]['games'])\n",
    "              + '\\t' + str(data_ranking[i]['winsClear'])\n",
    "              + '\\t' + str(data_ranking[i]['winsNarrow'])\n",
    "              + '\\t' + str(data_ranking[i]['defeatsClear'])\n",
    "              + '\\t' + str(data_ranking[i]['defeatsNarrow'])\n",
    "              + '\\t' + str(data_ranking[i]['setsWon'])\n",
    "              + '-' +  str(data_ranking[i]['setsLost'])\n",
    "              + '\\t' + str(data_ranking[i]['points']) + '\\n'\n",
    "              )\n",
    "    return toreturn"
   ]
  },
  {
   "cell_type": "code",
   "execution_count": 105,
   "metadata": {},
   "outputs": [
    {
     "name": "stdout",
     "output_type": "stream",
     "text": [
      "\n",
      "Groupe E Val-de-Travers - Schönenwerd\t3-1\n",
      "Schönenwerd - NUC II\t2-3\n",
      "Therwil - Münchenbuchsee\t1-3\n",
      "Gerlafingen - Visp\t3-2\n",
      "Groupe E Val-de-Travers - Edelline Köniz\t3-2\n",
      "\n",
      "1.\tTherwil\t14\t11\t1\t1\t1\t39-14\t36\n",
      "2.\tMünchenbuchsee\t14\t8\t2\t1\t3\t37-18\t31\n",
      "3.\tSchönenwerd\t14\t4\t3\t5\t2\t29-30\t20\n",
      "4.\tGroupe E Val-de-Travers\t14\t5\t1\t5\t3\t25-29\t20\n",
      "5.\tNUC II\t14\t5\t2\t7\t0\t26-26\t19\n",
      "6.\tGerlafingen\t14\t3\t3\t6\t2\t22-33\t17\n",
      "7.\tVisp\t14\t3\t3\t7\t1\t23-31\t16\n",
      "\n"
     ]
    }
   ],
   "source": [
    "print(\"LNB Dames\")\n",
    "print(matches(\"https://api.volleyball.ch/indoor/games?region=SV&gender=f&leagueId=1973&phaseId=3482&groupId=11778\"))\n",
    "print(classement(\"https://api.volleyball.ch/indoor/ranking/11778\"))"
   ]
  },
  {
   "cell_type": "code",
   "execution_count": 106,
   "metadata": {},
   "outputs": [
    {
     "name": "stdout",
     "output_type": "stream",
     "text": [
      "1ere ligue dames, groupe A\n",
      "LE Locle - Ecublens\t0-3\n",
      "TV Murten ball - Val-de-Ruz Sport\t1-3\n",
      "TS  Düdingen II - Cheseaux II\t2-3\n",
      "Genève  II - VC Uettligen\t3-2\n",
      "\n",
      "1.\tEcublens\t13\t12\t0\t1\t0\t37-8\t36\n",
      "2.\tVal-de-Ruz Sport\t13\t10\t1\t2\t0\t34-11\t32\n",
      "3.\tTS  Düdingen II\t12\t7\t2\t1\t2\t31-18\t27\n",
      "4.\tServette Star-Onex\t12\t5\t1\t4\t2\t25-24\t19\n",
      "5.\tCheseaux II\t12\t4\t1\t6\t1\t21-26\t15\n",
      "6.\tTV Murten ball\t12\t3\t1\t6\t2\t19-28\t13\n",
      "7.\tGenève  II\t13\t3\t2\t8\t0\t18-29\t13\n",
      "8.\tVC Uettligen\t12\t3\t1\t7\t1\t19-28\t12\n",
      "\n"
     ]
    }
   ],
   "source": [
    "print(\"1ere ligue dames, groupe A\")\n",
    "print(matches(\"https://api.volleyball.ch/indoor/games?region=SV&gender=f&leagueId=1975&phaseId=3486&groupId=11785\"))\n",
    "print(classement(\"https://api.volleyball.ch/indoor/ranking/11785\"))"
   ]
  },
  {
   "cell_type": "code",
   "execution_count": null,
   "metadata": {},
   "outputs": [],
   "source": []
  }
 ],
 "metadata": {
  "kernelspec": {
   "display_name": "Python 3",
   "language": "python",
   "name": "python3"
  },
  "language_info": {
   "codemirror_mode": {
    "name": "ipython",
    "version": 3
   },
   "file_extension": ".py",
   "mimetype": "text/x-python",
   "name": "python",
   "nbconvert_exporter": "python",
   "pygments_lexer": "ipython3",
   "version": "3.6.7"
  }
 },
 "nbformat": 4,
 "nbformat_minor": 2
}
