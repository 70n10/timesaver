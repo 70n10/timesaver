{
 "cells": [
  {
   "cell_type": "code",
   "execution_count": 20,
   "metadata": {},
   "outputs": [
    {
     "name": "stdout",
     "output_type": "stream",
     "text": [
      "1\tJuventus Turin\t\t25\t22\t3\t0\t53\t15\t38\t69\t2\tNaples\t\t25\t17\t5\t3\t46\t18\t28\t56\t3\tAC Milan\t\t26\t13\t9\t4\t39\t22\t17\t48\t4\tInter Milan\t\t26\t14\t5\t7\t38\t22\t16\t47\t5\tAS Rome\t\t26\t12\t8\t6\t49\t36\t13\t44\t6\tLazio Rome\t\t25\t12\t5\t8\t36\t27\t9\t41\t7\tTorino\t\t26\t10\t11\t5\t33\t22\t11\t41\t8\tAtalanta\t\t25\t11\t5\t9\t51\t36\t15\t38\t9\tFiorentina\t\t25\t8\t12\t5\t40\t29\t11\t36\t10\tSampdoria Gênes\t\t25\t10\t6\t9\t41\t32\t9\t36\t11\tSassuolo\t\t26\t7\t10\t9\t35\t41\t-6\t31\t12\tParme\t\t26\t8\t6\t12\t28\t40\t-12\t30\t13\tGenoa\t\t25\t7\t8\t10\t32\t41\t-9\t29\t14\tCagliari\t\t26\t6\t9\t11\t23\t37\t-14\t27\t15\tSPAL\t\t25\t5\t8\t12\t22\t37\t-15\t23\t16\tUdinese\t\t24\t5\t7\t12\t19\t31\t-12\t22\t17\tEmpoli\t\t26\t5\t7\t14\t33\t51\t-18\t22\t18\tBologne\t\t25\t3\t9\t13\t19\t38\t-19\t18\t19\tFrosinone\t\t25\t3\t7\t15\t19\t49\t-30\t16\t20\tChievo Vérone\t\t26\t1\t10\t15\t19\t51\t-32\t10\t\n"
     ]
    }
   ],
   "source": [
    "import requests\n",
    "from bs4 import BeautifulSoup\n",
    "\n",
    "def classement(link):\n",
    "    page = requests.get(link)\n",
    "    text = ''\n",
    "    soup = BeautifulSoup(page.content, 'html.parser')\n",
    "    for j in soup.find_all('td'):\n",
    "        if str(j) in '<td standing-table__cell standing-table__cell--position':\n",
    "            text += '\\n' + j + '.'\n",
    "        else:\n",
    "            text += j.get_text() + '\\t'\n",
    "\n",
    "    return text\n",
    "\n",
    "print(classement('https://www.eurosport.fr/football/serie-a/standing.shtml'))"
   ]
  },
  {
   "cell_type": "code",
   "execution_count": null,
   "metadata": {},
   "outputs": [],
   "source": []
  }
 ],
 "metadata": {
  "kernelspec": {
   "display_name": "Python 3",
   "language": "python",
   "name": "python3"
  },
  "language_info": {
   "codemirror_mode": {
    "name": "ipython",
    "version": 3
   },
   "file_extension": ".py",
   "mimetype": "text/x-python",
   "name": "python",
   "nbconvert_exporter": "python",
   "pygments_lexer": "ipython3",
   "version": "3.6.7"
  }
 },
 "nbformat": 4,
 "nbformat_minor": 2
}
