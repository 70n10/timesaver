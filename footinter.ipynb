{
 "cells": [
  {
   "cell_type": "code",
   "execution_count": 31,
   "metadata": {},
   "outputs": [],
   "source": [
    "import requests\n",
    "from bs4 import BeautifulSoup\n",
    "\n",
    "def classement(link):\n",
    "    page = requests.get(link)\n",
    "    text = ''\n",
    "    soup = BeautifulSoup(page.content, 'html.parser')\n",
    "    for j in soup.find_all('td'):\n",
    "        if 'standing-table__cell standing-table__cell--position' in str(j):\n",
    "            text += '\\n' + j.get_text() + '.' + '\\t'\n",
    "            cont = 0\n",
    "        else:\n",
    "            if cont < 6:\n",
    "                text += j.get_text() + '\\t'\n",
    "                cont += 1\n",
    "            elif cont == 6:\n",
    "                text += j.get_text() + '-'\n",
    "                cont += 1\n",
    "            elif cont == 7:\n",
    "                text += j.get_text() + '\\t'\n",
    "                cont += 1\n",
    "            elif \"standing-table__cell-value standing-table__cell-value--main\" in str(j):\n",
    "                text += j.get_text() + '\\t'\n",
    "                cont += 1\n",
    "    return text"
   ]
  },
  {
   "cell_type": "code",
   "execution_count": 25,
   "metadata": {},
   "outputs": [
    {
     "name": "stdout",
     "output_type": "stream",
     "text": [
      "\n",
      "1.\tJuventus Turin\t\t25\t22\t3\t0\t53-15\t69\t\n",
      "2.\tNaples\t\t25\t17\t5\t3\t46-18\t56\t\n",
      "3.\tAC Milan\t\t26\t13\t9\t4\t39-22\t48\t\n",
      "4.\tInter Milan\t\t26\t14\t5\t7\t38-22\t47\t\n",
      "5.\tAS Rome\t\t26\t12\t8\t6\t49-36\t44\t\n",
      "6.\tLazio Rome\t\t25\t12\t5\t8\t36-27\t41\t\n",
      "7.\tTorino\t\t26\t10\t11\t5\t33-22\t41\t\n",
      "8.\tAtalanta\t\t26\t12\t5\t9\t54-37\t41\t\n",
      "9.\tSampdoria Gênes\t\t26\t11\t6\t9\t43-33\t39\t\n",
      "10.\tFiorentina\t\t26\t8\t12\t6\t41-32\t36\t\n",
      "11.\tSassuolo\t\t26\t7\t10\t9\t35-41\t31\t\n",
      "12.\tGenoa\t\t26\t7\t9\t10\t32-41\t30\t\n",
      "13.\tParme\t\t26\t8\t6\t12\t28-40\t30\t\n",
      "14.\tCagliari\t\t26\t6\t9\t11\t23-37\t27\t\n",
      "15.\tUdinese\t\t25\t6\t7\t12\t21-32\t25\t\n",
      "16.\tSPAL\t\t26\t5\t8\t13\t23-39\t23\t\n",
      "17.\tEmpoli\t\t26\t5\t7\t14\t33-51\t22\t\n",
      "18.\tBologne\t\t26\t3\t9\t14\t20-40\t18\t\n",
      "19.\tFrosinone\t\t26\t3\t8\t15\t19-49\t17\t\n",
      "20.\tChievo Vérone\t\t26\t1\t10\t15\t19-51\t10\t\n"
     ]
    }
   ],
   "source": [
    "print(classement('https://www.eurosport.fr/football/serie-a/standing.shtml'))"
   ]
  },
  {
   "cell_type": "code",
   "execution_count": 26,
   "metadata": {},
   "outputs": [
    {
     "name": "stdout",
     "output_type": "stream",
     "text": [
      "\n",
      "1.\tManchester City\t\t29\t23\t2\t4\t76-20\t71\t\n",
      "2.\tLiverpool\t\t29\t21\t7\t1\t64-15\t70\t\n",
      "3.\tTottenham\t\t29\t20\t1\t8\t56-30\t61\t\n",
      "4.\tManchester United\t\t29\t17\t7\t5\t58-38\t58\t\n",
      "5.\tArsenal\t\t29\t17\t6\t6\t61-39\t57\t\n",
      "6.\tChelsea\t\t28\t17\t5\t6\t49-30\t56\t\n",
      "7.\tWolverhampton\t\t29\t12\t7\t10\t37-35\t43\t\n",
      "8.\tWatford\t\t29\t12\t7\t10\t41-41\t43\t\n",
      "9.\tWest Ham\t\t29\t11\t6\t12\t37-41\t39\t\n",
      "10.\tEverton\t\t29\t10\t7\t12\t39-39\t37\t\n",
      "11.\tLeicester City\t\t29\t10\t5\t14\t35-41\t35\t\n",
      "12.\tBournemouth\t\t29\t10\t4\t15\t39-54\t34\t\n",
      "13.\tCrystal Palace\t\t29\t9\t6\t14\t35-39\t33\t\n",
      "14.\tNewcastle\t\t29\t8\t7\t14\t26-36\t31\t\n",
      "15.\tBrighton & Hove Albion\t\t28\t8\t6\t14\t30-41\t30\t\n",
      "16.\tBurnley\t\t29\t8\t6\t15\t32-53\t30\t\n",
      "17.\tSouthampton\t\t29\t6\t9\t14\t32-49\t27\t\n",
      "18.\tCardiff City\t\t29\t7\t4\t18\t25-57\t25\t\n",
      "19.\tFulham\t\t29\t4\t5\t20\t27-65\t17\t\n",
      "20.\tHuddersfield Town\t\t29\t3\t5\t21\t15-51\t14\t\n"
     ]
    }
   ],
   "source": [
    "print(classement('https://www.eurosport.fr/football/premier-league/standing.shtml'))"
   ]
  },
  {
   "cell_type": "code",
   "execution_count": 27,
   "metadata": {},
   "outputs": [
    {
     "name": "stdout",
     "output_type": "stream",
     "text": [
      "\n",
      "1.\tParis Saint-Germain\t\t26\t23\t2\t1\t79-15\t71\t\n",
      "2.\tLille OSC\t\t27\t16\t6\t5\t44-23\t54\t\n",
      "3.\tOlympique Lyonnais\t\t27\t14\t7\t6\t45-31\t49\t\n",
      "4.\tAS Saint-Etienne\t\t26\t12\t7\t7\t36-31\t43\t\n",
      "5.\tStade de Reims\t\t27\t10\t12\t5\t29-26\t42\t\n",
      "6.\tOlympique de Marseille\t\t26\t12\t5\t9\t41-35\t41\t\n",
      "7.\tOGC Nice\t\t27\t11\t7\t9\t20-27\t40\t\n",
      "8.\tMontpellier Hérault\t\t26\t9\t11\t6\t34-28\t38\t\n",
      "9.\tStrasbourg\t\t27\t9\t10\t8\t41-31\t37\t\n",
      "10.\tStade Rennais\t\t26\t10\t7\t9\t35-34\t37\t\n",
      "11.\tNîmes\t\t26\t10\t6\t10\t37-38\t36\t\n",
      "12.\tSCO Angers\t\t27\t8\t10\t9\t31-31\t34\t\n",
      "13.\tGirondins de Bordeaux\t\t26\t8\t8\t10\t25-27\t32\t\n",
      "14.\tNantes\t\t27\t8\t7\t12\t31-34\t31\t\n",
      "15.\tToulouse FC\t\t27\t6\t10\t11\t26-42\t28\t\n",
      "16.\tMonaco\t\t27\t6\t8\t13\t28-43\t26\t\n",
      "17.\tAmiens SC\t\t27\t7\t4\t16\t22-42\t25\t\n",
      "18.\tSM Caen\t\t27\t3\t11\t13\t22-36\t20\t\n",
      "19.\tDijon FCO\t\t26\t5\t5\t16\t20-40\t20\t\n",
      "20.\tEn Avant Guingamp\t\t27\t4\t7\t16\t18-50\t19\t\n"
     ]
    }
   ],
   "source": [
    "print(classement('https://www.eurosport.fr/football/ligue-1/standing.shtml'))"
   ]
  },
  {
   "cell_type": "code",
   "execution_count": 28,
   "metadata": {},
   "outputs": [
    {
     "name": "stdout",
     "output_type": "stream",
     "text": [
      "\n",
      "1.\tDortmund\t\t24\t16\t6\t2\t58-27\t54\t\n",
      "2.\tBayern Munich\t\t24\t17\t3\t4\t56-27\t54\t\n",
      "3.\tRB Leipzig\t\t24\t13\t6\t5\t43-20\t45\t\n",
      "4.\tMönchengladbach\t\t24\t13\t4\t7\t43-30\t43\t\n",
      "5.\tEintracht Francfort\t\t24\t11\t7\t6\t47-30\t40\t\n",
      "6.\tBayer 04 Leverkusen\t\t24\t12\t3\t9\t43-35\t39\t\n",
      "7.\tWolfsburg\t\t24\t11\t6\t7\t39-31\t39\t\n",
      "8.\tHertha Berlin\t\t24\t9\t8\t7\t37-34\t35\t\n",
      "9.\tTSG 1899 Hoffenheim\t\t24\t8\t10\t6\t47-36\t34\t\n",
      "10.\tWerder Brême\t\t24\t8\t9\t7\t39-35\t33\t\n",
      "11.\tFortuna Düsseldorf\t\t24\t9\t4\t11\t31-42\t31\t\n",
      "12.\tMayence\t\t24\t8\t6\t10\t27-38\t30\t\n",
      "13.\tFribourg\t\t24\t6\t9\t9\t34-40\t27\t\n",
      "14.\tFC Schalke 04\t\t24\t6\t5\t13\t25-39\t23\t\n",
      "15.\tFC Augsburg\t\t24\t5\t6\t13\t34-46\t21\t\n",
      "16.\tStuttgart\t\t24\t5\t4\t15\t24-52\t19\t\n",
      "17.\tHanovre\t\t24\t3\t5\t16\t21-55\t14\t\n",
      "18.\tNuremberg\t\t24\t2\t7\t15\t18-49\t13\t\n"
     ]
    }
   ],
   "source": [
    "print(classement('https://www.eurosport.fr/football/bundesliga/standing.shtml'))"
   ]
  },
  {
   "cell_type": "code",
   "execution_count": 30,
   "metadata": {},
   "outputs": [
    {
     "name": "stdout",
     "output_type": "stream",
     "text": [
      "\n",
      "1.\tBenfica\t\t24\t19\t2\t3\t66-21\t59\t\n",
      "2.\tFC Porto\t\t24\t18\t3\t3\t48-14\t57\t\n",
      "3.\tSC Braga\t\t24\t16\t4\t4\t42-24\t52\t\n",
      "4.\tSporting Portugal\t\t23\t14\t4\t5\t44-25\t46\t\n",
      "5.\tMoreirense\t\t24\t13\t3\t8\t29-27\t42\t\n",
      "6.\tVitória Guimarães\t\t23\t10\t6\t7\t27-21\t36\t\n",
      "7.\tBelenenses\t\t24\t9\t9\t6\t29-23\t36\t\n",
      "8.\tSanta Clara\t\t24\t9\t4\t11\t32-32\t31\t\n",
      "9.\tRio Ave FC\t\t24\t7\t7\t10\t34-37\t28\t\n",
      "10.\tPortimonense\t\t23\t8\t4\t11\t28-35\t28\t\n",
      "11.\tBoavista FC\t\t24\t7\t5\t12\t18-29\t26\t\n",
      "12.\tCD Nacional\t\t24\t7\t5\t12\t27-49\t26\t\n",
      "13.\tCD Aves\t\t24\t7\t4\t13\t26-38\t25\t\n",
      "14.\tVitória Setúbal\t\t24\t5\t9\t10\t20-26\t24\t\n",
      "15.\tCS Marítimo\t\t23\t7\t3\t13\t13-25\t24\t\n",
      "16.\tCD Tondela\t\t24\t6\t5\t13\t28-39\t23\t\n",
      "17.\tGD Chaves\t\t24\t5\t5\t14\t17-35\t20\t\n",
      "18.\tCD Feirense\t\t24\t2\t8\t14\t14-42\t14\t\n"
     ]
    }
   ],
   "source": [
    "print(classement('https://www.eurosport.fr/football/liga-portugaise/standing.shtml'))"
   ]
  },
  {
   "cell_type": "code",
   "execution_count": null,
   "metadata": {},
   "outputs": [],
   "source": []
  }
 ],
 "metadata": {
  "kernelspec": {
   "display_name": "Python 3",
   "language": "python",
   "name": "python3"
  },
  "language_info": {
   "codemirror_mode": {
    "name": "ipython",
    "version": 3
   },
   "file_extension": ".py",
   "mimetype": "text/x-python",
   "name": "python",
   "nbconvert_exporter": "python",
   "pygments_lexer": "ipython3",
   "version": "3.6.7"
  }
 },
 "nbformat": 4,
 "nbformat_minor": 2
}
