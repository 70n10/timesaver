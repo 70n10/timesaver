{
 "cells": [
  {
   "cell_type": "code",
   "execution_count": 1,
   "metadata": {},
   "outputs": [],
   "source": [
    "#LNB Messieurs\n",
    "#LNB Dames\n",
    "#Première ligue messieurs, gr. a\n",
    "#Première ligue dames, gr. a\n",
    "#Groupe b"
   ]
  },
  {
   "cell_type": "code",
   "execution_count": 14,
   "metadata": {},
   "outputs": [],
   "source": [
    "import requests\n",
    "import datetime\n",
    "header= {'User-Agent': 'Mozilla/5.0 (Macintosh; Intel Mac OS X 10_13_6) AppleWebKit/537.36 (KHTML, like Gecko) Chrome/71.0.3578.98 Safari/537.36',\n",
    "         'Host': 'api.volleyball.ch',\n",
    "         'Connection': 'keep-alive',\n",
    "         'Access-Control-Request-Method': 'GET', \n",
    "         'Origin': 'https://www.volleyball.ch',\n",
    "          'Access-Control-Request-Headers': 'authorization',\n",
    "         'Accept': '*/*', \n",
    "         'Referer': 'https://www.volleyball.ch/fr/volleyball/game-center/', \n",
    "          'Accept-Encoding': 'gzip, deflate, br', \n",
    "         'Accept-Language': 'fr-FR,fr;q=0.9,en-US;q=0.8,en;q=0.7,it;q=0.6',\n",
    "        'Authorization': 'clicsoftGmbhMasterApiKey'\n",
    "}\n",
    "def matches(link):\n",
    "    def computeScore(x):\n",
    "        resh, resa = 0, 0\n",
    "        for i in range(1, len(data[x][\"setResults\"]) + 1):\n",
    "            if data[x][\"setResults\"][\"{}\".format(i)][\"home\"] < data[x][\"setResults\"][\"{}\".format(i)][\"away\"]:\n",
    "                resa += 1\n",
    "            else:\n",
    "                resh += 1\n",
    "\n",
    "        return (str(resh) + '-' + str(resa))\n",
    "\n",
    "    response = requests.get(link, headers=header)\n",
    "    data = response.json()\n",
    "    toreturn = ''\n",
    "    avenir = ''\n",
    "    for team in range(0, len(data)+1):\n",
    "\n",
    "        try:\n",
    "            if datetime.datetime.strptime(data[team][\"playDate\"],'%Y-%m-%d %H:%M:%S') >= datetime.datetime.now() - datetime.timedelta(days=6, hours=12) and datetime.datetime.strptime(data[team][\"playDate\"],'%Y-%m-%d %H:%M:%S') <= datetime.datetime.now() - datetime.timedelta(hours=12):\n",
    "                toreturn += (data[team][\"teams\"][\"home\"][\"caption\"].replace('VBC', '').replace('VB', '').replace('Volley', '').strip() + ' - '\n",
    "                      + data[team][\"teams\"][\"away\"][\"caption\"].replace('VBC', '').replace('VB', '').replace('Volley', '').strip()\n",
    "                      +'\\t' + computeScore(team)) + '\\n'\n",
    "            elif datetime.datetime.strptime(data[team][\"playDate\"],'%Y-%m-%d %H:%M:%S') <= datetime.datetime.now() + datetime.timedelta(days=7, hours=12) and datetime.datetime.strptime(data[team][\"playDate\"],'%Y-%m-%d %H:%M:%S') >= datetime.datetime.now() + datetime.timedelta(hours=12):\n",
    "                avenir += str(datetime.datetime.strptime(data[team][\"playDate\"],'%Y-%m-%d %H:%M:%S')) + ': ' + data[team][\"teams\"][\"home\"][\"caption\"].replace('VBC', '').replace('VB', '').replace('Volley', '').strip() + ' - ' + data[team][\"teams\"][\"away\"][\"caption\"].replace('VBC', '').replace('VB', '').replace('Volley', '').strip()\n",
    "\n",
    "        except:\n",
    "            pass\n",
    "\n",
    "    return toreturn, avenir\n",
    "\n",
    "def classement(link):\n",
    "    response_ranking = requests.get(link, headers=header)\n",
    "    data_ranking = response_ranking.json()\n",
    "    toreturn = ''\n",
    "    for i in range(len(data_ranking)):\n",
    "        toreturn+=(str(i+1) +'.'+ '\\t' + data_ranking[i]['teamCaption'].replace('VBC', '').replace('VB', '').replace('Volley', '').strip()\n",
    "              + '\\t' + str(data_ranking[i]['games'])\n",
    "              + '\\t' + str(data_ranking[i]['winsClear'])\n",
    "              + '\\t' + str(data_ranking[i]['winsNarrow'])\n",
    "              + '\\t' + str(data_ranking[i]['defeatsClear'])\n",
    "              + '\\t' + str(data_ranking[i]['defeatsNarrow'])\n",
    "              + '\\t' + str(data_ranking[i]['setsWon'])\n",
    "              + '-' +  str(data_ranking[i]['setsLost'])\n",
    "              + '\\t' + str(data_ranking[i]['points']) + '\\n'\n",
    "              )\n",
    "    return toreturn\n",
    "\n",
    "def clacontinu(link):\n",
    "    response_ranking = requests.get(link, headers=header)\n",
    "    data_ranking = response_ranking.json()\n",
    "    \n",
    "    if data_ranking[0]['points'] == data_ranking[1]['points']:\n",
    "        toreturn = str(1) +'.'+ ' ' + data_ranking[0]['teamCaption'].replace('VBC', '').replace('VB', '').replace('Volley', '').strip() + ' ' + str(data_ranking[0]['games']) + '-' + str(data_ranking[0]['points']) + ' ' + '(' + str(data_ranking[0]['setsWon']) + '-' +  str(data_ranking[i]['setsLost']) +'). '\n",
    "    else:\n",
    "        toreturn = str(1) +'.'+ ' ' + data_ranking[0]['teamCaption'].replace('VBC', '').replace('VB', '').replace('Volley', '').strip() + ' ' + str(data_ranking[0]['games']) + '-' + str(data_ranking[0]['points']) + '. '\n",
    "    \n",
    "    for i in range(1, len(data_ranking)-2):\n",
    "        if data_ranking[i]['points'] == data_ranking[i+1]['points'] or data_ranking[i]['points'] == data_ranking[i-1]['points']:\n",
    "            toreturn+= str(i+1) +'.'+ ' ' + data_ranking[i]['teamCaption'].replace('VBC', '').replace('VB', '').replace('Volley', '').strip() + ' ' + str(data_ranking[i]['games']) + '-' + str(data_ranking[i]['points']) + ' ' + '(' + str(data_ranking[i]['setsWon']) + '-' +  str(data_ranking[i]['setsLost']) +'). '\n",
    "        else:\n",
    "            toreturn+= str(i+1) +'.'+ ' ' + data_ranking[i]['teamCaption'].replace('VBC', '').replace('VB', '').replace('Volley', '').strip() + ' ' + str(data_ranking[i]['games']) + '-' + str(data_ranking[i]['points']) + '. '\n",
    "    \n",
    "    if data_ranking[len(data_ranking)-2]['points'] == data_ranking[len(data_ranking)-1]['points']:\n",
    "        toreturn+= str(len(data_ranking)) +'.'+ ' ' + data_ranking[len(data_ranking)-1]['teamCaption'].replace('VBC', '').replace('VB', '').replace('Volley', '').strip() + ' ' + str(data_ranking[len(data_ranking)-1]['games']) + '-' + str(data_ranking[len(data_ranking)-1]['points']) + ' ' + '(' + str(data_ranking[len(data_ranking)-1]['setsWon']) + '-' +  str(data_ranking[len(data_ranking)-1]['setsLost']) +'). '\n",
    "    else:\n",
    "        toreturn+= str(len(data_ranking)) +'.'+ ' ' + data_ranking[len(data_ranking)-1]['teamCaption'].replace('VBC', '').replace('VB', '').replace('Volley', '').strip() + ' ' + str(data_ranking[len(data_ranking)-1]['games']) + '-' + str(data_ranking[len(data_ranking)-1]['points']) + '. '\n",
    "            \n",
    "    return toreturn\n",
    "    \n",
    "    "
   ]
  },
  {
   "cell_type": "code",
   "execution_count": 87,
   "metadata": {},
   "outputs": [
    {
     "name": "stdout",
     "output_type": "stream",
     "text": [
      "LNB Messieurs, relégation\n",
      "Fully - Pallavolo Kreuzlingen\t0-3\n",
      "Colombier  I - Wetzikon\t2-3\n",
      "Oberdiessbach - Näfels II\t3-2\n",
      "\n",
      "1.\tPallavolo Kreuzlingen\t1\t1\t0\t0\t0\t3-0\t5\n",
      "2.\tNäfels II\t1\t0\t0\t0\t1\t2-3\t4\n",
      "3.\tball Papiermühle\t0\t0\t0\t0\t0\t0-0\t3\n",
      "4.\tWetzikon\t1\t0\t1\t0\t0\t3-2\t3\n",
      "5.\tColombier  I\t1\t0\t0\t0\t1\t2-3\t3\n",
      "6.\tOberdiessbach\t1\t0\t1\t0\t0\t3-2\t2\n",
      "7.\tFully\t1\t0\t0\t1\t0\t0-3\t1\n",
      "\n",
      "2019-02-09 13:30:00: Näfels II - Wetzikon2019-02-09 17:00:00: ball Papiermühle - Fully2019-02-10 16:00:00: Oberdiessbach - Colombier  I\n"
     ]
    }
   ],
   "source": [
    "jouer, a_jouer = matches(\"https://api.volleyball.ch/indoor/games?region=SV&gender=m&leagueId=1974&phaseId=3856&groupId=12602\")\n",
    "print(\"LNB Messieurs, relégation\")\n",
    "print(jouer)\n",
    "print(classement(\"https://api.volleyball.ch/indoor/ranking/12602\"))\n",
    "print(a_jouer)"
   ]
  },
  {
   "cell_type": "code",
   "execution_count": 88,
   "metadata": {},
   "outputs": [
    {
     "name": "stdout",
     "output_type": "stream",
     "text": [
      "LNB Dames, promotion\n",
      "Aadorf I - Groupe E Val-de-Travers\t3-0\n",
      "Glaronia - Therwil\t2-3\n",
      "züri unterland - Schönenwerd\t2-3\n",
      "Toggenburg I - Münchenbuchsee\t3-1\n",
      "\n",
      "1.\tAadorf I\t1\t1\t0\t0\t0\t3-0\t6\n",
      "2.\tTherwil\t1\t0\t1\t0\t0\t3-2\t5\n",
      "3.\tToggenburg I\t1\t1\t0\t0\t0\t3-1\t3\n",
      "4.\tSchönenwerd\t1\t0\t1\t0\t0\t3-2\t3\n",
      "5.\tzüri unterland\t1\t0\t0\t0\t1\t2-3\t3\n",
      "6.\tGlaronia\t1\t0\t0\t0\t1\t2-3\t2\n",
      "7.\tMünchenbuchsee\t1\t0\t0\t1\t0\t1-3\t2\n",
      "8.\tGroupe E Val-de-Travers\t1\t0\t0\t1\t0\t0-3\t0\n",
      "\n",
      "2019-02-09 15:00:00: Schönenwerd - Aadorf I2019-02-09 17:30:00: Therwil - Toggenburg I2019-02-09 17:30:00: Groupe E Val-de-Travers - züri unterland2019-02-09 20:00:00: Münchenbuchsee - Glaronia\n"
     ]
    }
   ],
   "source": [
    "jouer, a_jouer = matches(\"https://api.volleyball.ch/indoor/games?region=SV&gender=f&leagueId=1973&phaseId=3858&groupId=12597\")\n",
    "print(\"LNB Dames, promotion\")\n",
    "print(jouer)\n",
    "print(classement(\"https://api.volleyball.ch/indoor/ranking/12597\"))\n",
    "print(a_jouer)"
   ]
  },
  {
   "cell_type": "code",
   "execution_count": 89,
   "metadata": {},
   "outputs": [
    {
     "name": "stdout",
     "output_type": "stream",
     "text": [
      "LNB Dames, relégation\n",
      "Luzern - Gerlafingen\t3-0\n",
      "Steinhausen - Visp\t3-2\n",
      "Wolf Haus Giubiasco - NUC II\t3-1\n",
      "Raiffeisen a Obwalden - Edelline Köniz\t3-0\n",
      "\n",
      "1.\tRaiffeisen a Obwalden\t1\t1\t0\t0\t0\t3-0\t5\n",
      "2.\tSteinhausen\t1\t0\t1\t0\t0\t3-2\t5\n",
      "3.\tWolf Haus Giubiasco\t1\t1\t0\t0\t0\t3-1\t4\n",
      "4.\tLuzern\t1\t1\t0\t0\t0\t3-0\t3\n",
      "5.\tNUC II\t1\t0\t0\t1\t0\t1-3\t3\n",
      "6.\tVisp\t1\t0\t0\t0\t1\t2-3\t2\n",
      "7.\tGerlafingen\t1\t0\t0\t1\t0\t0-3\t2\n",
      "8.\tEdelline Köniz\t1\t0\t0\t1\t0\t0-3\t0\n",
      "\n",
      "2019-02-09 18:00:00: Visp - Raiffeisen a Obwalden2019-02-10 14:30:00: NUC II - Luzern2019-02-10 16:00:00: Gerlafingen - Wolf Haus Giubiasco2019-02-10 16:30:00: Edelline Köniz - Steinhausen\n"
     ]
    }
   ],
   "source": [
    "jouer, a_jouer = matches(\"https://api.volleyball.ch/indoor/games?region=SV&gender=f&leagueId=1973&phaseId=3858&groupId=12598\")\n",
    "print(\"LNB Dames, relégation\")\n",
    "print(jouer)\n",
    "print(classement(\"https://api.volleyball.ch/indoor/ranking/12598\"))\n",
    "print(a_jouer)"
   ]
  },
  {
   "cell_type": "code",
   "execution_count": 90,
   "metadata": {},
   "outputs": [
    {
     "name": "stdout",
     "output_type": "stream",
     "text": [
      "1ere ligue messieurs, groupe A\n",
      "La Côte - Volero Aarberg\t3-1\n",
      "Herren Oberwallis - Colombier  II\t3-0\n",
      "TV Murten ball - Martigny\t3-1\n",
      "\n",
      "1.\tVolero Aarberg\t16\t13\t1\t1\t1\t45-16\t42\n",
      "2.\tLa Côte\t16\t11\t0\t4\t1\t36-21\t34\n",
      "3.\tHerren Oberwallis\t15\t10\t1\t4\t0\t34-19\t32\n",
      "4.\tServette Star-Onex\t16\t8\t3\t3\t2\t39-23\t32\n",
      "5.\tColombier  II\t16\t7\t1\t6\t2\t31-27\t25\n",
      "6.\tLausanne\t16\t6\t2\t6\t2\t30-30\t24\n",
      "7.\tLa-Chaux-de-Fonds\t15\t3\t4\t6\t2\t28-33\t19\n",
      "8.\tTV Murten ball\t16\t5\t0\t8\t3\t24-36\t18\n",
      "9.\tMartigny\t16\t1\t1\t14\t0\t13-45\t5\n",
      "10.\tGroupement Sportif du CERN\t14\t1\t0\t13\t0\t10-40\t3\n",
      "\n",
      "2019-02-09 18:00:00: La-Chaux-de-Fonds - Herren Oberwallis2019-02-09 18:00:00: Martigny - La Côte2019-02-09 18:00:00: Volero Aarberg - Lausanne2019-02-10 14:00:00: TV Murten ball - Servette Star-Onex2019-02-10 16:00:00: Herren Oberwallis - Groupement Sportif du CERN2019-02-15 20:30:00: Servette Star-Onex - Groupement Sportif du CERN2019-02-15 20:30:00: Lausanne - TV Murten ball\n"
     ]
    }
   ],
   "source": [
    "jouer, a_jouer = matches(\"https://api.volleyball.ch/indoor/games?region=SV&gender=m&leagueId=1976&phaseId=3491&groupId=11798\")\n",
    "print(\"1ere ligue messieurs, groupe A\")\n",
    "print(jouer)\n",
    "print(clacontinu(\"https://api.volleyball.ch/indoor/ranking/11798\"))\n",
    "print(a_jouer)"
   ]
  },
  {
   "cell_type": "code",
   "execution_count": 92,
   "metadata": {},
   "outputs": [
    {
     "name": "stdout",
     "output_type": "stream",
     "text": [
      "1ere ligue dames, groupe A\n",
      "Val-de-Ruz Sport - VC Uettligen\t3-1\n",
      "Servette Star-Onex - Genève  II\t3-0\n",
      "TS  Düdingen II - LE Locle\t3-0\n",
      "TV Murten ball - Cheseaux II\t3-0\n",
      "\n",
      "1.\tVal-de-Ruz Sport\t15\t12\t1\t2\t0\t40-12\t38\n",
      "2.\tEcublens\t14\t12\t0\t2\t0\t37-11\t36\n",
      "3.\tTS  Düdingen II\t14\t8\t2\t1\t3\t36-21\t31\n",
      "4.\tServette Star-Onex\t14\t6\t1\t5\t2\t29-27\t22\n",
      "5.\tTV Murten ball\t14\t5\t1\t6\t2\t25-28\t19\n",
      "6.\tCheseaux II\t14\t5\t1\t7\t1\t24-30\t18\n",
      "7.\tGenève  II\t15\t3\t3\t9\t0\t21-34\t15\n",
      "8.\tVC Uettligen\t14\t3\t1\t9\t1\t20-34\t12\n",
      "9.\tLE Locle\t14\t0\t0\t13\t1\t7-42\t1\n",
      "\n",
      "2019-02-09 14:30:00: Cheseaux II - Ecublens2019-02-09 18:30:00: TV Murten ball - Servette Star-Onex2019-02-10 13:30:00: TS  Düdingen II - Val-de-Ruz Sport2019-02-15 20:30:00: Ecublens - TS  Düdingen II\n"
     ]
    }
   ],
   "source": [
    "jouer, a_jouer = matches(\"https://api.volleyball.ch/indoor/games?region=SV&gender=f&leagueId=1975&phaseId=3486&groupId=11785\")\n",
    "print(\"1ere ligue dames, groupe A\")\n",
    "print(jouer)\n",
    "print(clacontinu(\"https://api.volleyball.ch/indoor/ranking/11785\"))\n",
    "print(a_jouer)"
   ]
  },
  {
   "cell_type": "code",
   "execution_count": 15,
   "metadata": {},
   "outputs": [
    {
     "name": "stdout",
     "output_type": "stream",
     "text": [
      "Groupe B\n",
      "TV Grenchen - Oftringen 1\t3-0\n",
      "Solothurn - Muri Bern\t0-3\n",
      "VFM - ball Franches-Montagnes II - Köniz II\t3-0\n",
      "Münchenbuchsee - Uni Bern\t3-1\n",
      "Münsingen - Lalden\t3-0\n",
      "\n",
      "1. Muri Bern 16-39. 2. Münsingen 16-38. 3. VFM - ball Franches-Montagnes II 16-33. 4. TV Grenchen 16-31 (37-23). 5. Münchenbuchsee 16-31 (39-27). 6. Köniz II 16-27. 7. Uni Bern 16-24. 8. Lalden 16-8. 10. Solothurn 16-3. \n",
      "2019-02-09 17:30:00: Uni Bern - VFM - ball Franches-Montagnes II2019-02-09 17:30:00: Münchenbuchsee - Solothurn2019-02-09 18:00:00: Lalden - Oftringen 12019-02-10 13:30:00: Köniz II - Muri Bern2019-02-10 16:00:00: Münsingen - TV Grenchen\n"
     ]
    }
   ],
   "source": [
    "jouer, a_jouer = matches(\"https://api.volleyball.ch/indoor/games?region=SV&gender=f&leagueId=1975&phaseId=3486&groupId=11786\")\n",
    "print(\"Groupe B\")\n",
    "print(jouer)\n",
    "print(clacontinu(\"https://api.volleyball.ch/indoor/ranking/11786\"))\n",
    "print(a_jouer)"
   ]
  },
  {
   "cell_type": "code",
   "execution_count": 11,
   "metadata": {},
   "outputs": [
    {
     "data": {
      "text/plain": [
       "3"
      ]
     },
     "execution_count": 11,
     "metadata": {},
     "output_type": "execute_result"
    }
   ],
   "source": [
    "ll = [1,2,3]\n",
    "len(ll)"
   ]
  },
  {
   "cell_type": "code",
   "execution_count": null,
   "metadata": {},
   "outputs": [],
   "source": []
  }
 ],
 "metadata": {
  "kernelspec": {
   "display_name": "Python 3",
   "language": "python",
   "name": "python3"
  },
  "language_info": {
   "codemirror_mode": {
    "name": "ipython",
    "version": 3
   },
   "file_extension": ".py",
   "mimetype": "text/x-python",
   "name": "python",
   "nbconvert_exporter": "python",
   "pygments_lexer": "ipython3",
   "version": "3.6.7"
  }
 },
 "nbformat": 4,
 "nbformat_minor": 2
}
